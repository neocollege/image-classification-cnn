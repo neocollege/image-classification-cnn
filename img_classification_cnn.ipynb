{
  "cells": [
    {
      "cell_type": "code",
      "execution_count": 1,
      "metadata": {
        "id": "C9TNtrAfXUlP"
      },
      "outputs": [],
      "source": [
        "import numpy as np\n",
        "import matplotlib.pyplot as plt\n",
        "import pandas as pd\n",
        "import tensorflow as tf\n",
        "from tensorflow.keras import datasets, layers, models"
      ]
    },
    {
      "cell_type": "code",
      "execution_count": 2,
      "metadata": {
        "colab": {
          "base_uri": "https://localhost:8080/"
        },
        "id": "a3N9Gd3aXlUQ",
        "outputId": "7dc14758-6379-49a5-ea0c-d7058efaa246"
      },
      "outputs": [
        {
          "name": "stdout",
          "output_type": "stream",
          "text": [
            "Downloading data from https://www.cs.toronto.edu/~kriz/cifar-10-python.tar.gz\n",
            "170500096/170498071 [==============================] - 2s 0us/step\n",
            "170508288/170498071 [==============================] - 2s 0us/step\n"
          ]
        }
      ],
      "source": [
        "(X_train, y_train), (X_test, y_test) = datasets.cifar10.load_data()"
      ]
    },
    {
      "cell_type": "code",
      "execution_count": 6,
      "metadata": {
        "colab": {
          "base_uri": "https://localhost:8080/"
        },
        "id": "i_58x9w_7MTQ",
        "outputId": "86513941-c098-473c-8170-9342a0f4c826"
      },
      "outputs": [
        {
          "data": {
            "text/plain": [
              "(50000, 32, 32, 3)"
            ]
          },
          "execution_count": 6,
          "metadata": {},
          "output_type": "execute_result"
        }
      ],
      "source": [
        "X_train.shape"
      ]
    },
    {
      "cell_type": "code",
      "execution_count": 4,
      "metadata": {
        "colab": {
          "base_uri": "https://localhost:8080/"
        },
        "id": "WZXgMFT2XzoU",
        "outputId": "96ca582a-d413-4e59-d790-dccc3b2a2151"
      },
      "outputs": [
        {
          "data": {
            "text/plain": [
              "array([6, 9, 9, 4, 1], dtype=uint8)"
            ]
          },
          "execution_count": 4,
          "metadata": {},
          "output_type": "execute_result"
        }
      ],
      "source": [
        "y_train = y_train.reshape(-1,)\n",
        "y_train[:5]"
      ]
    },
    {
      "cell_type": "code",
      "execution_count": 7,
      "metadata": {
        "id": "CFtdquf07yOx"
      },
      "outputs": [],
      "source": [
        "classes = [\"airplane\",\"automobile\",\"bird\",\"cat\",\"deer\",\"dog\",\"frog\",\"horse\",\"ship\",\"truck\"]"
      ]
    },
    {
      "cell_type": "code",
      "execution_count": 8,
      "metadata": {
        "id": "iSWJja3O7Eg_"
      },
      "outputs": [],
      "source": [
        "def plot_sample(X,y,index):\n",
        " plt.figure(figsize=(10,2))\n",
        " plt.imshow(X[index])\n",
        " plt.xlabel(classes[y[index]]) "
      ]
    },
    {
      "cell_type": "code",
      "execution_count": 10,
      "metadata": {
        "colab": {
          "base_uri": "https://localhost:8080/",
          "height": 173
        },
        "id": "nx4877GH8EC-",
        "outputId": "01e4c1d7-4871-4d02-df80-c4b6dd34a7d8"
      },
      "outputs": [
        {
          "data": {
            "image/png": "[encoded data removed]",
            "text/plain": [
              "<Figure size 720x144 with 1 Axes>"
            ]
          },
          "metadata": {
            "needs_background": "light"
          },
          "output_type": "display_data"
        }
      ],
      "source": [
        "plot_sample(X_train,y_train,0)"
      ]
    },
    {
      "cell_type": "code",
      "execution_count": 11,
      "metadata": {
        "colab": {
          "base_uri": "https://localhost:8080/",
          "height": 173
        },
        "id": "HNTpjrbh8I4_",
        "outputId": "ee08a383-02f2-46d5-ff47-9f44645d9edc"
      },
      "outputs": [
        {
          "data": {
            "image/png": "[encoded data removed]",
            "text/plain": [
              "<Figure size 720x144 with 1 Axes>"
            ]
          },
          "metadata": {
            "needs_background": "light"
          },
          "output_type": "display_data"
        }
      ],
      "source": [
        "plot_sample(X_train, y_train, 5)"
      ]
    },
    {
      "cell_type": "markdown",
      "metadata": {
        "id": "NapWrYD29CEO"
      },
      "source": [
        "scaling the images"
      ]
    },
    {
      "cell_type": "code",
      "execution_count": 16,
      "metadata": {
        "id": "dyx_wDFq8YuW"
      },
      "outputs": [],
      "source": [
        "X_train = X_train/255.0\n",
        "X_test = X_test/255.0"
      ]
    },
    {
      "cell_type": "markdown",
      "metadata": {
        "id": "FZ-36rqm_nN1"
      },
      "source": [
        "Convolutional Neural Network model"
      ]
    },
    {
      "cell_type": "code",
      "execution_count": 17,
      "metadata": {
        "id": "NFB-j6r1_qXP"
      },
      "outputs": [],
      "source": [
        "cnn = models.Sequential([\n",
        "       layers.Conv2D(filters=32, kernel_size=(3,3), activation='relu', input_shape = (32,32,3)),\n",
        "       layers.MaxPooling2D((2,2)),\n",
        "       layers.Flatten(),\n",
        "       layers.Dense(64, activation='relu'),\n",
        "       layers.Dense(10, activation='softmax')           \n",
        "])"
      ]
    },
    {
      "cell_type": "code",
      "execution_count": 18,
      "metadata": {
        "id": "MsKVcMaOC0kH"
      },
      "outputs": [],
      "source": [
        "cnn.compile(optimizer='adam',\n",
        "            loss='sparse_categorical_crossentropy',\n",
        "            metrics=['accuracy'])"
      ]
    },
    {
      "cell_type": "code",
      "execution_count": 19,
      "metadata": {
        "colab": {
          "base_uri": "https://localhost:8080/"
        },
        "id": "MJdme-0VDbwl",
        "outputId": "cf737285-13ef-4bef-9342-c8c46866ff4b"
      },
      "outputs": [
        {
          "name": "stdout",
          "output_type": "stream",
          "text": [
            "Epoch 1/10\n",
            "1563/1563 [==============================] - 36s 23ms/step - loss: 1.4452 - accuracy: 0.4882\n",
            "Epoch 2/10\n",
            "1563/1563 [==============================] - 35s 23ms/step - loss: 1.1671 - accuracy: 0.5903\n",
            "Epoch 3/10\n",
            "1563/1563 [==============================] - 35s 23ms/step - loss: 1.0518 - accuracy: 0.6344\n",
            "Epoch 4/10\n",
            "1563/1563 [==============================] - 35s 23ms/step - loss: 0.9717 - accuracy: 0.6615\n",
            "Epoch 5/10\n",
            "1563/1563 [==============================] - 35s 22ms/step - loss: 0.9109 - accuracy: 0.6833\n",
            "Epoch 6/10\n",
            "1563/1563 [==============================] - 35s 23ms/step - loss: 0.8559 - accuracy: 0.7006\n",
            "Epoch 7/10\n",
            "1563/1563 [==============================] - 35s 23ms/step - loss: 0.8114 - accuracy: 0.7183\n",
            "Epoch 8/10\n",
            "1563/1563 [==============================] - 35s 23ms/step - loss: 0.7676 - accuracy: 0.7315\n",
            "Epoch 9/10\n",
            "1563/1563 [==============================] - 35s 23ms/step - loss: 0.7301 - accuracy: 0.7444\n",
            "Epoch 10/10\n",
            "1563/1563 [==============================] - 35s 23ms/step - loss: 0.6892 - accuracy: 0.7593\n"
          ]
        },
        {
          "data": {
            "text/plain": [
              "<keras.callbacks.History at 0x7fd61cec04d0>"
            ]
          },
          "execution_count": 19,
          "metadata": {},
          "output_type": "execute_result"
        }
      ],
      "source": [
        "cnn.fit(X_train, y_train, epochs=10)"
      ]
    },
    {
      "cell_type": "code",
      "execution_count": 22,
      "metadata": {
        "colab": {
          "base_uri": "https://localhost:8080/"
        },
        "id": "UmQ8wT6hDfxF",
        "outputId": "1b1d9259-dd64-401d-9df2-cf6efa715ecb"
      },
      "outputs": [
        {
          "name": "stdout",
          "output_type": "stream",
          "text": [
            "313/313 [==============================] - 2s 8ms/step - loss: 1.1431 - accuracy: 0.6381\n"
          ]
        },
        {
          "data": {
            "text/plain": [
              "[1.1430611610412598, 0.6381000280380249]"
            ]
          },
          "execution_count": 22,
          "metadata": {},
          "output_type": "execute_result"
        }
      ],
      "source": [
        "cnn.evaluate(X_test, y_test)"
      ]
    },
    {
      "cell_type": "code",
      "execution_count": 23,
      "metadata": {
        "colab": {
          "base_uri": "https://localhost:8080/"
        },
        "id": "8UFWiBVgGNY1",
        "outputId": "6541b66a-8766-41c3-a84b-e48997853311"
      },
      "outputs": [
        {
          "data": {
            "text/plain": [
              "array([[1.7982448e-04, 4.1274652e-06, 2.2391388e-03, 5.7109231e-01,\n",
              "        3.5892444e-04, 3.8388887e-01, 3.9485168e-02, 8.0749953e-05,\n",
              "        2.6614140e-03, 9.4655752e-06],\n",
              "       [6.0768954e-05, 1.2036603e-04, 3.5310599e-08, 3.1739877e-08,\n",
              "        4.7179835e-08, 1.2807508e-10, 2.2650899e-09, 1.2058205e-11,\n",
              "        9.9981850e-01, 2.0145494e-07],\n",
              "       [2.9016954e-01, 1.3819885e-02, 1.5165691e-02, 7.4806553e-03,\n",
              "        7.3263221e-03, 2.3410324e-04, 4.3892392e-04, 2.6071336e-04,\n",
              "        6.6362345e-01, 1.4806720e-03],\n",
              "       [1.0723384e-01, 4.0967735e-03, 6.8423167e-02, 4.3647727e-03,\n",
              "        6.2907124e-01, 8.7758512e-05, 2.5962315e-02, 2.6065709e-05,\n",
              "        1.6009583e-01, 6.3816400e-04],\n",
              "       [5.8896727e-05, 2.0745611e-06, 3.8130356e-03, 3.7609611e-02,\n",
              "        3.2119226e-01, 4.9853302e-03, 6.3233328e-01, 4.6875421e-06,\n",
              "        4.7542250e-07, 3.7976500e-07]], dtype=float32)"
            ]
          },
          "execution_count": 23,
          "metadata": {},
          "output_type": "execute_result"
        }
      ],
      "source": [
        "y_pred = cnn.predict(X_test)\n",
        "y_pred[:5]"
      ]
    },
    {
      "cell_type": "code",
      "execution_count": 24,
      "metadata": {
        "colab": {
          "base_uri": "https://localhost:8080/"
        },
        "id": "rm7usYTBGi1V",
        "outputId": "f0dd1b4d-51b8-4ba4-ee8d-02c8b81a6f69"
      },
      "outputs": [
        {
          "data": {
            "text/plain": [
              "[3, 8, 8, 4, 6]"
            ]
          },
          "execution_count": 24,
          "metadata": {},
          "output_type": "execute_result"
        }
      ],
      "source": [
        "y_classes = [np.argmax(element) for element in y_pred]\n",
        "y_classes[:5]"
      ]
    },
    {
      "cell_type": "code",
      "execution_count": 25,
      "metadata": {
        "colab": {
          "base_uri": "https://localhost:8080/"
        },
        "id": "fh6Kn50iGq0V",
        "outputId": "6511cea0-2715-4b23-bba1-c5cb78d5e7bf"
      },
      "outputs": [
        {
          "name": "stdout",
          "output_type": "stream",
          "text": [
            "Classification Report: \n",
            "               precision    recall  f1-score   support\n",
            "\n",
            "           0       0.72      0.60      0.65      1000\n",
            "           1       0.85      0.67      0.75      1000\n",
            "           2       0.51      0.53      0.52      1000\n",
            "           3       0.46      0.47      0.46      1000\n",
            "           4       0.51      0.70      0.59      1000\n",
            "           5       0.54      0.55      0.54      1000\n",
            "           6       0.68      0.76      0.72      1000\n",
            "           7       0.80      0.59      0.68      1000\n",
            "           8       0.70      0.80      0.75      1000\n",
            "           9       0.78      0.71      0.74      1000\n",
            "\n",
            "    accuracy                           0.64     10000\n",
            "   macro avg       0.65      0.64      0.64     10000\n",
            "weighted avg       0.65      0.64      0.64     10000\n",
            "\n"
          ]
        }
      ],
      "source": [
        "from sklearn.metrics import confusion_matrix , classification_report\n",
        "print(\"Classification Report: \\n\", classification_report(y_test, y_classes))"
      ]
    },
    {
      "cell_type": "code",
      "execution_count": null,
      "metadata": {
        "id": "0fDf0vJxG4Md"
      },
      "outputs": [],
      "source": []
    }
  ],
  "metadata": {
    "colab": {
      "collapsed_sections": [],
      "name": "img-classification-cnn.ipynb",
      "provenance": []
    },
    "interpreter": {
      "hash": "369f2c481f4da34e4445cda3fffd2e751bd1c4d706f27375911949ba6bb62e1c"
    },
    "kernelspec": {
      "display_name": "Python 3.10.3 64-bit",
      "language": "python",
      "name": "python3"
    },
    "language_info": {
      "name": "python",
      "version": "3.10.3"
    }
  },
  "nbformat": 4,
  "nbformat_minor": 0
}
